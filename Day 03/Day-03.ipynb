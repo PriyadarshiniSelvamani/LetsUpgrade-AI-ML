{
 "cells": [
  {
   "cell_type": "code",
   "execution_count": 5,
   "metadata": {},
   "outputs": [
    {
     "name": "stdout",
     "output_type": "stream",
     "text": [
      "subtraction of complex number is (4-3j)\n"
     ]
    }
   ],
   "source": [
    "#Question 1\n",
    "a= 8+5j\n",
    "b= 4+8j\n",
    "c= a-b\n",
    "print(\"subtraction of complex number is\",c)\n"
   ]
  },
  {
   "cell_type": "code",
   "execution_count": 7,
   "metadata": {},
   "outputs": [
    {
     "name": "stdout",
     "output_type": "stream",
     "text": [
      "fourth root of 9 is 1.7320508075688772\n"
     ]
    }
   ],
   "source": [
    "#Question2\n",
    "a = 9\n",
    "b = 9**(1/4)\n",
    "print(\"fourth root of 9 is\",b)"
   ]
  },
  {
   "cell_type": "code",
   "execution_count": 8,
   "metadata": {},
   "outputs": [
    {
     "name": "stdout",
     "output_type": "stream",
     "text": [
      "Before swapping\n",
      "a = 8\n",
      "b = 9\n",
      "after swapping\n",
      "a = 9\n",
      "b = 8\n"
     ]
    }
   ],
   "source": [
    "#Question 3\n",
    "print(\"Before swapping\")\n",
    "a = 8\n",
    "b = 9\n",
    "print (\"a =\",a)\n",
    "print (\"b =\",b)\n",
    "print(\"after swapping\")\n",
    "temp = a\n",
    "a = b\n",
    "b = temp\n",
    "print (\"a =\",a)\n",
    "print (\"b =\",b)\n"
   ]
  },
  {
   "cell_type": "code",
   "execution_count": 19,
   "metadata": {},
   "outputs": [
    {
     "name": "stdout",
     "output_type": "stream",
     "text": [
      "Before swapping\n",
      "a= 9\n",
      "b= 8\n"
     ]
    }
   ],
   "source": [
    "#Question 4\n",
    "print(\"Before swapping\")\n",
    "a = 8\n",
    "b = 9\n",
    "a,b=b,a\n",
    "print(\"a=\",a)\n",
    "print(\"b=\",b)\n"
   ]
  },
  {
   "cell_type": "code",
   "execution_count": 23,
   "metadata": {},
   "outputs": [
    {
     "name": "stdout",
     "output_type": "stream",
     "text": [
      "fahrenheit is 100\n",
      "fahrenheit to celsius is 37.77777777777778\n",
      "fahrenheit to kelvin is 311.27777777777777\n"
     ]
    }
   ],
   "source": [
    "#Question 5\n",
    "f = 100\n",
    "k = 273.5 + ((f - 32.0) * (5.0/9.0))\n",
    "c = (f-32)*5/9\n",
    "print(\"fahrenheit is\",f)\n",
    "print(\"fahrenheit to celsius is\",c)\n",
    "print(\"fahrenheit to kelvin is\",k)"
   ]
  },
  {
   "cell_type": "code",
   "execution_count": 26,
   "metadata": {},
   "outputs": [
    {
     "name": "stdout",
     "output_type": "stream",
     "text": [
      "<class 'int'>\n",
      "<class 'float'>\n",
      "<class 'bool'>\n",
      "<class 'complex'>\n",
      "<class 'str'>\n"
     ]
    }
   ],
   "source": [
    "#Question 6\n",
    "a=9\n",
    "b=1.9999938999929\n",
    "c=True\n",
    "d=9+4j\n",
    "e=\"dog\"\n",
    "print(type(a))\n",
    "print(type(b))\n",
    "print(type(c))\n",
    "print(type(d))\n",
    "print(type(e))"
   ]
  },
  {
   "cell_type": "markdown",
   "metadata": {},
   "source": [
    "#Question 7\n",
    "##Steps to be followed to upload a file in github\n",
    "1. Open github.com and create your profile\n",
    "2. Click on new repository\n",
    "3. Give a name to ypur repository which should be *LetsUpgrade AI-ML* and with the default settings click on **create repository**.\n",
    "4. Now in the opened page click on **upload an existing file link**.\n",
    "5. On clicking that, drag and drop your file into it and click on **commit changes**.\n",
    "6. Now your file is successfully uploaded.\n",
    "\n"
   ]
  }
 ],
 "metadata": {
  "kernelspec": {
   "display_name": "Python 3",
   "language": "python",
   "name": "python3"
  },
  "language_info": {
   "codemirror_mode": {
    "name": "ipython",
    "version": 3
   },
   "file_extension": ".py",
   "mimetype": "text/x-python",
   "name": "python",
   "nbconvert_exporter": "python",
   "pygments_lexer": "ipython3",
   "version": "3.7.6"
  }
 },
 "nbformat": 4,
 "nbformat_minor": 4
}
